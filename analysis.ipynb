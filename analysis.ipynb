{
 "cells": [
  {
   "cell_type": "markdown",
   "metadata": {},
   "source": [
    "# World Happiness Analysis"
   ]
  },
  {
   "cell_type": "code",
   "execution_count": null,
   "metadata": {},
   "outputs": [],
   "source": [
    "import matplotlib.pyplot as plt\n",
    "import pandas as pd\n",
    "import seaborn as sns"
   ]
  },
  {
   "cell_type": "code",
   "execution_count": null,
   "metadata": {},
   "outputs": [],
   "source": [
    "from IPython.core.display import display, HTML\n",
    "\n",
    "display(HTML(\"<style>.container { width:80% !important; }</style>\"))"
   ]
  },
  {
   "cell_type": "markdown",
   "metadata": {},
   "source": [
    "## Get the data"
   ]
  },
  {
   "cell_type": "code",
   "execution_count": null,
   "metadata": {},
   "outputs": [],
   "source": [
    "%%bash\n",
    "\n",
    "# *Warning*: You need kaggle-api to be setup, for more information: https://github.com/Kaggle/kaggle-api\n",
    "\n",
    "if [ ! -d data ]; then\n",
    "    kaggle datasets download -d unsdsn/world-happiness\n",
    "    mkdir -p data\n",
    "    unzip world-happiness.zip -d data\n",
    "fi\n",
    "\n",
    "ls data"
   ]
  },
  {
   "cell_type": "markdown",
   "metadata": {},
   "source": [
    "## Simple analysis of the 2015 dataset"
   ]
  },
  {
   "cell_type": "code",
   "execution_count": null,
   "metadata": {},
   "outputs": [],
   "source": [
    "happiness_2015 = pd.read_csv(\"./data/2015.csv\")"
   ]
  },
  {
   "cell_type": "code",
   "execution_count": null,
   "metadata": {},
   "outputs": [],
   "source": [
    "happiness_2015"
   ]
  },
  {
   "cell_type": "code",
   "execution_count": null,
   "metadata": {},
   "outputs": [],
   "source": [
    "happiness_2015.groupby(\"Region\").mean().sort_values(\"Happiness Score\", ascending=False)"
   ]
  },
  {
   "cell_type": "code",
   "execution_count": null,
   "metadata": {},
   "outputs": [],
   "source": [
    "variables = [\n",
    "    \"Economy (GDP per Capita)\",\n",
    "    \"Family\",\n",
    "    \"Health (Life Expectancy)\",\n",
    "    \"Freedom\",\n",
    "    \"Trust (Government Corruption)\",\n",
    "    \"Generosity\",\n",
    "]\n",
    "\n",
    "reduced_2015 = happiness_2015[variables]"
   ]
  },
  {
   "cell_type": "code",
   "execution_count": null,
   "metadata": {},
   "outputs": [],
   "source": [
    "fig, axs = plt.subplots(\n",
    "    ncols=2, nrows=len(variables) // 2, figsize=(16, 2 * len(variables))\n",
    ")\n",
    "\n",
    "for i, column in enumerate(variables):\n",
    "    sns.regplot(\n",
    "        data=happiness_2015, y=\"Happiness Score\", x=column, ax=axs[i // 2, i % 2]\n",
    "    );"
   ]
  },
  {
   "cell_type": "code",
   "execution_count": null,
   "metadata": {},
   "outputs": [],
   "source": [
    "regions = happiness_2015[\"Region\"].unique()\n",
    "regions"
   ]
  },
  {
   "cell_type": "code",
   "execution_count": null,
   "metadata": {},
   "outputs": [],
   "source": [
    "fig, axs = plt.subplots(\n",
    "    ncols=2, nrows=len(regions) // 2, figsize=(12, 2 * len(regions))\n",
    ")\n",
    "fig.tight_layout(pad=10)\n",
    "fig.autofmt_xdate(rotation=45)\n",
    "\n",
    "reduced_with_region = happiness_2015[variables + [\"Region\"]]\n",
    "\n",
    "for i, region in enumerate(regions):\n",
    "    axs[i // 2, i % 2].set_title(f\"{region} correlation plot\")\n",
    "    sns.heatmap(\n",
    "        data=reduced_with_region[reduced_with_region[\"Region\"] == region].corr(),\n",
    "        ax=axs[i // 2, i % 2],\n",
    "    );"
   ]
  },
  {
   "cell_type": "code",
   "execution_count": null,
   "metadata": {},
   "outputs": [],
   "source": [
    "plot = sns.catplot(\n",
    "    data=happiness_2015, kind=\"box\", x=\"Region\", y=\"Happiness Score\", aspect=2\n",
    ")\n",
    "plot.set_xticklabels(rotation=45);"
   ]
  },
  {
   "cell_type": "code",
   "execution_count": null,
   "metadata": {},
   "outputs": [],
   "source": [
    "sns.scatterplot(\n",
    "    data=happiness_2015,\n",
    "    y=\"Happiness Score\",\n",
    "    x=\"Family\",\n",
    "    hue=\"Region\",\n",
    "    size=\"Economy (GDP per Capita)\",\n",
    ")\n",
    "plt.legend(loc=\"center right\", bbox_to_anchor=(2.2, 0.5), ncol=2);"
   ]
  },
  {
   "cell_type": "markdown",
   "metadata": {},
   "source": [
    "## ML testing"
   ]
  },
  {
   "cell_type": "code",
   "execution_count": null,
   "metadata": {},
   "outputs": [],
   "source": [
    "import numpy as np\n",
    "from sklearn.linear_model import (\n",
    "    LinearRegression,\n",
    "    LogisticRegression,\n",
    "    MultiTaskLasso,\n",
    "    PassiveAggressiveRegressor,\n",
    "    SGDRegressor,\n",
    ")\n",
    "from sklearn.metrics import mean_squared_error, r2_score\n",
    "from sklearn.model_selection import train_test_split"
   ]
  },
  {
   "cell_type": "markdown",
   "metadata": {},
   "source": [
    "### Helpers"
   ]
  },
  {
   "cell_type": "code",
   "execution_count": null,
   "metadata": {},
   "outputs": [],
   "source": [
    "errors = pd.DataFrame(data={\"name\": [], \"mse\": [], \"r2\": []})"
   ]
  },
  {
   "cell_type": "code",
   "execution_count": null,
   "metadata": {},
   "outputs": [],
   "source": [
    "def pred_real_plot(predictions, test_y):\n",
    "    \"\"\"\n",
    "    predictions: prediction list from model.predict()\n",
    "    test_y: ground truth\n",
    "\n",
    "    The dotted represents a perfect result, the farther apart\n",
    "    from that line the dots are, the more the model predicted\n",
    "    a wrong result.\n",
    "    \"\"\"\n",
    "    pred_real = list(zip(predictions, test_y.values.flatten()))\n",
    "    g = sns.jointplot(x=predictions, y=test_y.values.flatten())\n",
    "    g.ax_joint.set_xlabel(\"ground truth\")\n",
    "    g.ax_joint.set_ylabel(\"predictions\")\n",
    "\n",
    "    x0, x1 = g.ax_joint.get_xlim()\n",
    "    y0, y1 = g.ax_joint.get_ylim()\n",
    "    lims = [max(x0, y0), min(x1, y1)]\n",
    "    g.ax_joint.plot(lims, lims, \":k\")"
   ]
  },
  {
   "cell_type": "code",
   "execution_count": null,
   "metadata": {},
   "outputs": [],
   "source": [
    "def regression(reg, train_x, train_y, test_x, test_y, name):\n",
    "    \"\"\"\n",
    "    reg: regression model to use\n",
    "    train_: training data\n",
    "    test_: testing data\n",
    "    name: model name\n",
    "\n",
    "    This will print the different scores of the models\n",
    "\n",
    "    There are currently two scoring methods used:\n",
    "    - mse: mean squared error\n",
    "    - r2: r squared\n",
    "    Measures how close we are to the regression line\n",
    "    \"\"\"\n",
    "    reg.fit(train_x, train_y)\n",
    "    predictions = reg.predict(test_x)\n",
    "    mse = mean_squared_error(test_y, predictions)\n",
    "    r2 = r2_score(test_y, predictions)\n",
    "    print(\"MSE:\", mse)\n",
    "    print(\"R^2:\", r2)\n",
    "\n",
    "    errors = {\"name\": name, \"mse\": mse, \"r2\": r2}\n",
    "\n",
    "    return predictions, errors"
   ]
  },
  {
   "cell_type": "markdown",
   "metadata": {},
   "source": [
    "### Split train/test"
   ]
  },
  {
   "cell_type": "code",
   "execution_count": null,
   "metadata": {},
   "outputs": [],
   "source": [
    "# split train test\n",
    "train, test = train_test_split(happiness_2015, test_size=0.2, random_state=42)"
   ]
  },
  {
   "cell_type": "code",
   "execution_count": null,
   "metadata": {},
   "outputs": [],
   "source": [
    "train_x = train[variables]\n",
    "train_y = train[[\"Happiness Score\"]]\n",
    "\n",
    "test_x = test[variables]\n",
    "test_y = test[[\"Happiness Score\"]]"
   ]
  },
  {
   "cell_type": "markdown",
   "metadata": {},
   "source": [
    "### Linear Regression"
   ]
  },
  {
   "cell_type": "markdown",
   "metadata": {},
   "source": [
    "Ordinary least squares"
   ]
  },
  {
   "cell_type": "code",
   "execution_count": null,
   "metadata": {},
   "outputs": [],
   "source": [
    "pred, error = regression(\n",
    "    LinearRegression(), train_x, train_y, test_x, test_y, \"linear regression\"\n",
    ")\n",
    "\n",
    "errors = errors.append(error, ignore_index=True)"
   ]
  },
  {
   "cell_type": "code",
   "execution_count": null,
   "metadata": {},
   "outputs": [],
   "source": [
    "pred_real_plot(pred.flatten(), test_y)"
   ]
  },
  {
   "cell_type": "markdown",
   "metadata": {},
   "source": [
    "### Ridge Regression"
   ]
  },
  {
   "cell_type": "markdown",
   "metadata": {},
   "source": [
    "Also called Tikhonov regularization, this is just a linear least squares with l2 regularization"
   ]
  },
  {
   "cell_type": "code",
   "execution_count": null,
   "metadata": {},
   "outputs": [],
   "source": [
    "Ridge?"
   ]
  },
  {
   "cell_type": "code",
   "execution_count": null,
   "metadata": {},
   "outputs": [],
   "source": [
    "from sklearn.linear_model import Ridge"
   ]
  },
  {
   "cell_type": "code",
   "execution_count": null,
   "metadata": {},
   "outputs": [],
   "source": [
    "pred, error = regression(Ridge(), train_x, train_y, test_x, test_y, \"ridge regression\")\n",
    "\n",
    "errors = errors.append(error, ignore_index=True)"
   ]
  },
  {
   "cell_type": "code",
   "execution_count": null,
   "metadata": {},
   "outputs": [],
   "source": [
    "pred_real_plot(pred.flatten(), test_y)"
   ]
  },
  {
   "cell_type": "markdown",
   "metadata": {},
   "source": [
    "### Decision Tree Regressor"
   ]
  },
  {
   "cell_type": "markdown",
   "metadata": {},
   "source": [
    "Basic decision tree"
   ]
  },
  {
   "cell_type": "code",
   "execution_count": null,
   "metadata": {},
   "outputs": [],
   "source": [
    "from sklearn.tree import DecisionTreeRegressor, plot_tree, export_graphviz"
   ]
  },
  {
   "cell_type": "code",
   "execution_count": null,
   "metadata": {},
   "outputs": [],
   "source": [
    "tree = DecisionTreeRegressor(max_depth=4)\n",
    "pred, error = regression(\n",
    "    tree, train_x, train_y, test_x, test_y, \"decision tree regressor\"\n",
    ")\n",
    "\n",
    "errors = errors.append(error, ignore_index=True)"
   ]
  },
  {
   "cell_type": "code",
   "execution_count": null,
   "metadata": {},
   "outputs": [],
   "source": [
    "from graphviz import Source\n",
    "from IPython.display import SVG\n",
    "\n",
    "graph = Source(export_graphviz(tree, out_file=None, feature_names=variables))\n",
    "SVG(graph.pipe(format=\"svg\"))"
   ]
  },
  {
   "cell_type": "code",
   "execution_count": null,
   "metadata": {},
   "outputs": [],
   "source": [
    "pred_real_plot(pred, test_y)"
   ]
  },
  {
   "cell_type": "markdown",
   "metadata": {},
   "source": [
    "### Random Forest Regressor"
   ]
  },
  {
   "cell_type": "markdown",
   "metadata": {},
   "source": [
    "Estimator using multiple decision trees, this allows to improve the predictive accuracy and help with over-fitting"
   ]
  },
  {
   "cell_type": "code",
   "execution_count": null,
   "metadata": {},
   "outputs": [],
   "source": [
    "from sklearn.ensemble import RandomForestRegressor"
   ]
  },
  {
   "cell_type": "code",
   "execution_count": null,
   "metadata": {},
   "outputs": [],
   "source": [
    "pred, error = regression(\n",
    "    RandomForestRegressor(max_depth=4, random_state=42),\n",
    "    train_x,\n",
    "    train_y.values.ravel(),\n",
    "    test_x,\n",
    "    test_y,\n",
    "    \"random forest regressor\",\n",
    ")\n",
    "\n",
    "errors = errors.append(error, ignore_index=True)"
   ]
  },
  {
   "cell_type": "code",
   "execution_count": null,
   "metadata": {},
   "outputs": [],
   "source": [
    "pred_real_plot(pred, test_y)"
   ]
  },
  {
   "cell_type": "markdown",
   "metadata": {},
   "source": [
    "### SGD"
   ]
  },
  {
   "cell_type": "markdown",
   "metadata": {},
   "source": []
  },
  {
   "cell_type": "code",
   "execution_count": null,
   "metadata": {},
   "outputs": [],
   "source": [
    "pred, error = regression(\n",
    "    SGDRegressor(max_iter=10000, tol=1e-5),\n",
    "    train_x,\n",
    "    train_y.values.ravel(),\n",
    "    test_x,\n",
    "    test_y,\n",
    "    \"stochastic gradien descent\",\n",
    ")\n",
    "\n",
    "errors = errors.append(error, ignore_index=True)"
   ]
  },
  {
   "cell_type": "code",
   "execution_count": null,
   "metadata": {},
   "outputs": [],
   "source": [
    "pred_real_plot(pred, test_y)"
   ]
  },
  {
   "cell_type": "markdown",
   "metadata": {},
   "source": [
    "### Support Vector Regression"
   ]
  },
  {
   "cell_type": "markdown",
   "metadata": {},
   "source": [
    "This allows us to be less sensitive to outliers by tolerating some error up to a certain threshold."
   ]
  },
  {
   "cell_type": "code",
   "execution_count": null,
   "metadata": {},
   "outputs": [],
   "source": [
    "from sklearn.svm import SVR"
   ]
  },
  {
   "cell_type": "code",
   "execution_count": null,
   "metadata": {},
   "outputs": [],
   "source": [
    "pred, error = regression(\n",
    "    SVR(), train_x, train_y.values.ravel(), test_x, test_y, \"support vector regression\"\n",
    ")\n",
    "\n",
    "errors = errors.append(error, ignore_index=True)"
   ]
  },
  {
   "cell_type": "code",
   "execution_count": null,
   "metadata": {},
   "outputs": [],
   "source": [
    "pred_real_plot(pred, test_y)"
   ]
  },
  {
   "cell_type": "markdown",
   "metadata": {},
   "source": [
    "### MLP Regressor"
   ]
  },
  {
   "cell_type": "markdown",
   "metadata": {},
   "source": [
    "Multi-layer Perceptron regressor that optimizes the squared loss"
   ]
  },
  {
   "cell_type": "code",
   "execution_count": null,
   "metadata": {},
   "outputs": [],
   "source": [
    "MLPRegressor?"
   ]
  },
  {
   "cell_type": "code",
   "execution_count": null,
   "metadata": {},
   "outputs": [],
   "source": [
    "from sklearn.neural_network import MLPRegressor"
   ]
  },
  {
   "cell_type": "code",
   "execution_count": null,
   "metadata": {},
   "outputs": [],
   "source": [
    "pred, error = regression(\n",
    "    MLPRegressor(random_state=4, hidden_layer_sizes=(100,)),\n",
    "    train_x,\n",
    "    train_y.values.ravel(),\n",
    "    test_x,\n",
    "    test_y,\n",
    "    \"mlp regressor\",\n",
    ")\n",
    "\n",
    "errors = errors.append(error, ignore_index=True)"
   ]
  },
  {
   "cell_type": "code",
   "execution_count": null,
   "metadata": {},
   "outputs": [],
   "source": [
    "pred_real_plot(pred, test_y)"
   ]
  },
  {
   "cell_type": "markdown",
   "metadata": {},
   "source": [
    "### Voting Regressor"
   ]
  },
  {
   "cell_type": "markdown",
   "metadata": {},
   "source": []
  },
  {
   "cell_type": "code",
   "execution_count": null,
   "metadata": {},
   "outputs": [],
   "source": [
    "VotingRegressor?"
   ]
  },
  {
   "cell_type": "code",
   "execution_count": null,
   "metadata": {},
   "outputs": [],
   "source": [
    "from sklearn.ensemble import VotingRegressor"
   ]
  },
  {
   "cell_type": "code",
   "execution_count": null,
   "metadata": {},
   "outputs": [],
   "source": [
    "lr = LinearRegression()\n",
    "rfr = RandomForestRegressor(max_depth=5, random_state=42)\n",
    "sgd = SGDRegressor(max_iter=10000, tol=1e-5)\n",
    "mlp = MLPRegressor(random_state=4)\n",
    "\n",
    "models = [(\"lr\", lr), (\"rf\", rfr), (\"sgd\", sgd), (\"mlp\", mlp)]\n",
    "\n",
    "voting_reg = VotingRegressor(estimators=models)\n",
    "\n",
    "pred, error = regression(\n",
    "    voting_reg, train_x, train_y.values.ravel(), test_x, test_y, \"voting regressor\"\n",
    ")\n",
    "\n",
    "errors = errors.append(error, ignore_index=True)"
   ]
  },
  {
   "cell_type": "code",
   "execution_count": null,
   "metadata": {},
   "outputs": [],
   "source": [
    "pred_real_plot(pred, test_y)"
   ]
  },
  {
   "cell_type": "markdown",
   "metadata": {},
   "source": [
    "## Compare ML models"
   ]
  },
  {
   "cell_type": "code",
   "execution_count": null,
   "metadata": {},
   "outputs": [],
   "source": [
    "errors.set_index(\"name\", inplace=True)"
   ]
  },
  {
   "cell_type": "code",
   "execution_count": null,
   "metadata": {},
   "outputs": [],
   "source": [
    "errors[[\"mse\"]].T.style.highlight_min(axis=1, color=\"lightgreen\").highlight_max(\n",
    "    axis=1, color=\"lightcoral\"\n",
    ")"
   ]
  },
  {
   "cell_type": "code",
   "execution_count": null,
   "metadata": {},
   "outputs": [],
   "source": [
    "errors[[\"r2\"]].T.style.highlight_max(axis=1, color=\"lightgreen\").highlight_min(\n",
    "    axis=1, color=\"lightcoral\"\n",
    ")"
   ]
  },
  {
   "cell_type": "code",
   "execution_count": null,
   "metadata": {},
   "outputs": [],
   "source": []
  }
 ],
 "metadata": {
  "kernelspec": {
   "display_name": "Python 3",
   "language": "python",
   "name": "python3"
  },
  "language_info": {
   "codemirror_mode": {
    "name": "ipython",
    "version": 3
   },
   "file_extension": ".py",
   "mimetype": "text/x-python",
   "name": "python",
   "nbconvert_exporter": "python",
   "pygments_lexer": "ipython3",
   "version": "3.8.5"
  }
 },
 "nbformat": 4,
 "nbformat_minor": 4
}
