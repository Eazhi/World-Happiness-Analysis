{
 "cells": [
  {
   "cell_type": "code",
   "execution_count": null,
   "metadata": {},
   "outputs": [],
   "source": [
    "import matplotlib.pyplot as plt\n",
    "import pandas as pd\n",
    "import seaborn as sns"
   ]
  },
  {
   "cell_type": "code",
   "execution_count": null,
   "metadata": {},
   "outputs": [],
   "source": [
    "%%bash\n",
    "\n",
    "# *Warning*: You need kaggle-api to be setup, for more information: https://github.com/Kaggle/kaggle-api\n",
    "\n",
    "if [ ! -d data ]; then\n",
    "    kaggle datasets download -d unsdsn/world-happiness\n",
    "    mkdir -p data\n",
    "    unzip world-happiness.zip -d data\n",
    "fi\n",
    "\n",
    "ls data"
   ]
  },
  {
   "cell_type": "code",
   "execution_count": null,
   "metadata": {},
   "outputs": [],
   "source": [
    "happiness_2015 = pd.read_csv(\"./data/2015.csv\")"
   ]
  },
  {
   "cell_type": "code",
   "execution_count": null,
   "metadata": {},
   "outputs": [],
   "source": [
    "happiness_2015"
   ]
  },
  {
   "cell_type": "code",
   "execution_count": null,
   "metadata": {},
   "outputs": [],
   "source": [
    "happiness_2015.groupby(\"Region\").mean().sort_values(\"Happiness Score\", ascending=False)"
   ]
  },
  {
   "cell_type": "code",
   "execution_count": null,
   "metadata": {},
   "outputs": [],
   "source": [
    "variables = [\n",
    "    \"Economy (GDP per Capita)\",\n",
    "    \"Family\",\n",
    "    \"Health (Life Expectancy)\",\n",
    "    \"Freedom\",\n",
    "    \"Trust (Government Corruption)\",\n",
    "    \"Generosity\",\n",
    "]\n",
    "variables"
   ]
  },
  {
   "cell_type": "code",
   "execution_count": null,
   "metadata": {},
   "outputs": [],
   "source": [
    "fig, axs = plt.subplots(\n",
    "    ncols=2, nrows=len(variables) // 2, figsize=(16, 2 * len(variables))\n",
    ")\n",
    "\n",
    "for i, column in enumerate(variables):\n",
    "    sns.regplot(\n",
    "        data=happiness_2015, y=\"Happiness Score\", x=column, ax=axs[i // 2, i % 2]\n",
    "    );"
   ]
  },
  {
   "cell_type": "code",
   "execution_count": null,
   "metadata": {},
   "outputs": [],
   "source": [
    "sns.heatmap(happiness_2015.corr());"
   ]
  },
  {
   "cell_type": "code",
   "execution_count": null,
   "metadata": {},
   "outputs": [],
   "source": [
    "regions = happiness_2015[\"Region\"].unique()\n",
    "regions"
   ]
  },
  {
   "cell_type": "code",
   "execution_count": null,
   "metadata": {},
   "outputs": [],
   "source": [
    "fig, axs = plt.subplots(\n",
    "    ncols=2, nrows=len(regions) // 2, figsize=(12, 2 * len(regions))\n",
    ")\n",
    "fig.tight_layout(pad=10)\n",
    "fig.autofmt_xdate(rotation=45)\n",
    "\n",
    "for i, region in enumerate(regions):\n",
    "    axs[i // 2, i % 2].set_title(f\"{region} correlation plot\")\n",
    "    sns.heatmap(\n",
    "        data=happiness_2015[happiness_2015[\"Region\"] == region].corr(),\n",
    "        ax=axs[i // 2, i % 2],\n",
    "    );"
   ]
  },
  {
   "cell_type": "code",
   "execution_count": null,
   "metadata": {},
   "outputs": [],
   "source": [
    "plot = sns.catplot(\n",
    "    data=happiness_2015, kind=\"box\", x=\"Region\", y=\"Happiness Score\", aspect=2\n",
    ")\n",
    "plot.set_xticklabels(rotation=45);"
   ]
  },
  {
   "cell_type": "code",
   "execution_count": null,
   "metadata": {},
   "outputs": [],
   "source": [
    "sns.scatterplot(\n",
    "    data=happiness_2015,\n",
    "    y=\"Happiness Score\",\n",
    "    x=\"Family\",\n",
    "    hue=\"Region\",\n",
    "    size=\"Economy (GDP per Capita)\",\n",
    ")\n",
    "plt.legend(loc=\"center right\", bbox_to_anchor=(2.2, 0.5), ncol=2);"
   ]
  }
 ],
 "metadata": {
  "kernelspec": {
   "display_name": "Python 3",
   "language": "python",
   "name": "python3"
  },
  "language_info": {
   "codemirror_mode": {
    "name": "ipython",
    "version": 3
   },
   "file_extension": ".py",
   "mimetype": "text/x-python",
   "name": "python",
   "nbconvert_exporter": "python",
   "pygments_lexer": "ipython3",
   "version": "3.8.5"
  }
 },
 "nbformat": 4,
 "nbformat_minor": 4
}
